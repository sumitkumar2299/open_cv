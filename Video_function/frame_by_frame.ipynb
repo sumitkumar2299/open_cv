{
 "cells": [
  {
   "cell_type": "code",
   "execution_count": 1,
   "id": "6fea1ce7-0045-4ec4-8667-bd2837df4fa9",
   "metadata": {},
   "outputs": [],
   "source": [
    "# frame by frame = har image ke upar kuch na kuch kam karna video mein one at a time "
   ]
  },
  {
   "cell_type": "code",
   "execution_count": 2,
   "id": "5b15bb38-1970-4e23-9640-c3d30fbfe215",
   "metadata": {},
   "outputs": [],
   "source": [
    "#  draw, detect, analyze, labeling, specific frame ka time "
   ]
  },
  {
   "cell_type": "code",
   "execution_count": null,
   "id": "314b7522-e617-4438-8ac5-dc2baab4c15a",
   "metadata": {},
   "outputs": [],
   "source": [
    "# self driving car, \n",
    "# ovi  - audio video interleave \n",
    "# codec - compression formatabs \n",
    "# fps - frames per second \n",
    "# frame size = frames per second \n"
   ]
  }
 ],
 "metadata": {
  "kernelspec": {
   "display_name": "Python 3 (ipykernel)",
   "language": "python",
   "name": "python3"
  },
  "language_info": {
   "codemirror_mode": {
    "name": "ipython",
    "version": 3
   },
   "file_extension": ".py",
   "mimetype": "text/x-python",
   "name": "python",
   "nbconvert_exporter": "python",
   "pygments_lexer": "ipython3",
   "version": "3.12.7"
  }
 },
 "nbformat": 4,
 "nbformat_minor": 5
}
