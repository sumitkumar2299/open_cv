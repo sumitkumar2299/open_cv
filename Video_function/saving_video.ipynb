{
 "cells": [
  {
   "cell_type": "code",
   "execution_count": 3,
   "id": "4432cf71-d050-4299-8937-709e1bfd1565",
   "metadata": {},
   "outputs": [],
   "source": [
    "import cv2"
   ]
  },
  {
   "cell_type": "code",
   "execution_count": 2,
   "id": "ca85560e-ea4a-40ed-86c6-9ee5df204017",
   "metadata": {},
   "outputs": [],
   "source": [
    "\n",
    "\n",
    "camera = cv2.VideoCapture(0)\n",
    "frame_width = int(camera.get(cv2.CAP_PROP_FRAME_WIDTH))\n",
    "frame_height = int(camera.get(cv2.CAP_PROP_FRAME_HEIGHT))\n",
    "\n",
    "# Correct codec assignment\n",
    "codec = cv2.VideoWriter_fourcc(*'XVID')\n",
    "recorder = cv2.VideoWriter(\"my_video.avi\", codec, 20, (frame_width, frame_height))\n",
    "\n",
    "while True:\n",
    "    success, image = camera.read()\n",
    "    if not success:\n",
    "        break \n",
    "\n",
    "    recorder.write(image)            # write frame to file\n",
    "    cv2.imshow(\"recording live\", image)\n",
    "\n",
    "    if cv2.waitKey(1) & 0xFF == ord('q'):\n",
    "        break\n",
    "\n",
    "camera.release()                     # release webcam\n",
    "recorder.release()                    # release video writer\n",
    "cv2.destroyAllWindows()\n",
    "\n",
    "    \n",
    "    \n",
    "    \n",
    "\n"
   ]
  },
  {
   "cell_type": "code",
   "execution_count": null,
   "id": "5baf3c80-1cd6-4a96-8fb6-5023d5dbc3ee",
   "metadata": {},
   "outputs": [],
   "source": []
  }
 ],
 "metadata": {
  "kernelspec": {
   "display_name": "Python 3 (ipykernel)",
   "language": "python",
   "name": "python3"
  },
  "language_info": {
   "codemirror_mode": {
    "name": "ipython",
    "version": 3
   },
   "file_extension": ".py",
   "mimetype": "text/x-python",
   "name": "python",
   "nbconvert_exporter": "python",
   "pygments_lexer": "ipython3",
   "version": "3.12.7"
  }
 },
 "nbformat": 4,
 "nbformat_minor": 5
}
