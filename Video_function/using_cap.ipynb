{
 "cells": [
  {
   "cell_type": "code",
   "execution_count": 6,
   "id": "35a159ca-8392-4fde-b774-dafa8e5de3d2",
   "metadata": {},
   "outputs": [],
   "source": [
    "import cv2"
   ]
  },
  {
   "cell_type": "code",
   "execution_count": 8,
   "id": "a6e61e97-7a02-4397-96d9-8cf61d4b0e64",
   "metadata": {},
   "outputs": [
    {
     "name": "stdout",
     "output_type": "stream",
     "text": [
      "quitting....\n"
     ]
    }
   ],
   "source": [
    "import cv2\n",
    "\n",
    "cap = cv2.VideoCapture(0)\n",
    "\n",
    "while True:\n",
    "    ret, frame = cap.read()  # ret = true/false , frame = image\n",
    "    if not ret:\n",
    "        print(\"could not read frame\")\n",
    "        break \n",
    "    cv2.imshow(\"webcam feed\", frame)\n",
    "\n",
    "    # Wait for 1 millisecond for a key press\n",
    "    if cv2.waitKey(1) & 0xFF == ord(\"q\"):   \n",
    "        print(\"quitting....\")\n",
    "        break   # <-- yahi hona chahiye (sirf 'q' press par break hoga)\n",
    "\n",
    "cap.release()\n",
    "cv2.destroyAllWindows()\n"
   ]
  },
  {
   "cell_type": "code",
   "execution_count": null,
   "id": "9c9d3a67-295a-49be-831c-81706c96e19e",
   "metadata": {},
   "outputs": [],
   "source": []
  }
 ],
 "metadata": {
  "kernelspec": {
   "display_name": "Python 3 (ipykernel)",
   "language": "python",
   "name": "python3"
  },
  "language_info": {
   "codemirror_mode": {
    "name": "ipython",
    "version": 3
   },
   "file_extension": ".py",
   "mimetype": "text/x-python",
   "name": "python",
   "nbconvert_exporter": "python",
   "pygments_lexer": "ipython3",
   "version": "3.12.7"
  }
 },
 "nbformat": 4,
 "nbformat_minor": 5
}
