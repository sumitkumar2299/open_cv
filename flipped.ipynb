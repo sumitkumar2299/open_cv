{
 "cells": [
  {
   "cell_type": "code",
   "execution_count": 1,
   "id": "f7746b4c-397d-4b10-884c-38ad23bd7488",
   "metadata": {},
   "outputs": [],
   "source": [
    "import cv2"
   ]
  },
  {
   "cell_type": "code",
   "execution_count": 2,
   "id": "ddaba179-1b65-4ded-90e9-3280128f3069",
   "metadata": {},
   "outputs": [],
   "source": [
    "image = cv2.imread(\"Screenshot 2025-09-15 202205.png\")\n",
    "if image is None:\n",
    "    print(\"could not load image\")\n",
    "else:\n",
    "    flipped_horizontal = cv2.flip(image,1)\n",
    "    flipped_vertical = cv2.flip(image,0)\n",
    "    flipped_both = cv2.flip(image,-1)\n",
    "    cv2.imshow(\"original\",image)\n",
    "    cv2.imshow(\"flipped_horizonal\",flipped_horizontal)\n",
    "    cv2.imshow(\"flipped_vertical\",flipped_vertical)\n",
    "    cv2.waitKey(0)\n",
    "    cv2.destroyAllWindows()"
   ]
  },
  {
   "cell_type": "code",
   "execution_count": null,
   "id": "a0853705-8638-421d-ae3c-5053b62b54e6",
   "metadata": {},
   "outputs": [],
   "source": []
  }
 ],
 "metadata": {
  "kernelspec": {
   "display_name": "Python 3 (ipykernel)",
   "language": "python",
   "name": "python3"
  },
  "language_info": {
   "codemirror_mode": {
    "name": "ipython",
    "version": 3
   },
   "file_extension": ".py",
   "mimetype": "text/x-python",
   "name": "python",
   "nbconvert_exporter": "python",
   "pygments_lexer": "ipython3",
   "version": "3.12.7"
  }
 },
 "nbformat": 4,
 "nbformat_minor": 5
}
