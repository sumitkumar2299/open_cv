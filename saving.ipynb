{
 "cells": [
  {
   "cell_type": "code",
   "execution_count": 1,
   "id": "fb3020f9-752d-46d4-aab8-4b19c505dae0",
   "metadata": {},
   "outputs": [],
   "source": [
    "import cv2 \n"
   ]
  },
  {
   "cell_type": "code",
   "execution_count": 2,
   "id": "9f3e75b6-c0f5-48e3-bd3b-fbe9708336fb",
   "metadata": {},
   "outputs": [
    {
     "name": "stdout",
     "output_type": "stream",
     "text": [
      "image saved successfullyas 'output_image_screenshot'\n"
     ]
    }
   ],
   "source": [
    "image = cv2.imread(\"Screenshot 2025-09-15 202205.png\")\n",
    "if image is not None:\n",
    "    success = cv2.imwrite(\"ouput_image_screenshot.png\",image)\n",
    "    if success:\n",
    "        print(\"image saved successfullyas 'output_image_screenshot'\")\n",
    "    else:\n",
    "        print(\"failed to save an image\")\n",
    "else:\n",
    "    print(\"error:couldn't load image\")"
   ]
  },
  {
   "cell_type": "code",
   "execution_count": null,
   "id": "bc40cb64-e1f0-4ab1-9383-2c0efc1bdc24",
   "metadata": {},
   "outputs": [],
   "source": []
  }
 ],
 "metadata": {
  "kernelspec": {
   "display_name": "Python 3 (ipykernel)",
   "language": "python",
   "name": "python3"
  },
  "language_info": {
   "codemirror_mode": {
    "name": "ipython",
    "version": 3
   },
   "file_extension": ".py",
   "mimetype": "text/x-python",
   "name": "python",
   "nbconvert_exporter": "python",
   "pygments_lexer": "ipython3",
   "version": "3.12.7"
  }
 },
 "nbformat": 4,
 "nbformat_minor": 5
}
