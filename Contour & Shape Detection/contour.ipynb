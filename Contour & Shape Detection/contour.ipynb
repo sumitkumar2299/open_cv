{
 "cells": [
  {
   "cell_type": "code",
   "execution_count": 1,
   "id": "3e2a6517-4ff5-4c34-84fc-15f649f66db5",
   "metadata": {},
   "outputs": [],
   "source": [
    "import cv2\n",
    "\n",
    "img = cv2.imread(\"circle.png\")\n",
    "gray = cv2.cvtColor(img, cv2.COLOR_BGR2GRAY)\n",
    "_, thresh = cv2.threshold(gray, 200, 255, cv2.THRESH_BINARY)\n",
    "\n",
    "#FIND CONTOURS\n",
    "contours, heirarchy = cv2.findContours(thresh, cv2.RETR_TREE, cv2.CHAIN_APPROX_SIMPLE)\n",
    "\n",
    "cv2.drawContours(img, contours, -1, (0,255,0), 3)\n",
    "\n",
    "for contour in contours:\n",
    "    approx = cv2.approxPolyDP(contour, 0.01 * cv2.arcLength(contour, True), True)\n",
    "\n",
    "    corners = len(approx)\n",
    "\n",
    "    if corners == 3:\n",
    "        shape_name = \"Triangle\"\n",
    "        \n",
    "    elif corners == 4:\n",
    "        shape_name = \"Rectangle\"\n",
    "    \n",
    "    elif corners == 5:\n",
    "        shape_name = \"Pentagon\"\n",
    "    \n",
    "    elif corners > 5:\n",
    "        shape_name = \"Circle\"\n",
    "    \n",
    "    else:\n",
    "        shape_name = \"unknown\"\n",
    "\n",
    "    cv2.drawContours(img, [approx], 0, (0,255,0), 2)\n",
    "    x = approx.ravel()[0]\n",
    "    \"\"\"\n",
    "    [\n",
    "    [[100,200]],\n",
    "    [[150,250]],\n",
    "    [[120,270]],\n",
    "    ]\n",
    "    [100,200,150,250,120,270]\n",
    "    \"\"\"\n",
    "    y = approx.ravel()[1] - 10\n",
    "    cv2.putText(img, shape_name, (x,y), cv2.FONT_HERSHEY_COMPLEX, 0.6, (255, 0, 0), 2)\n",
    "\n",
    "\n",
    "cv2.imshow(\"Contours\", img)\n",
    "cv2.waitKey(0)\n",
    "cv2.destroyAllWindows()"
   ]
  },
  {
   "cell_type": "code",
   "execution_count": null,
   "id": "02d0fa11-dbc2-4bc0-91a2-82d9f453bb10",
   "metadata": {},
   "outputs": [],
   "source": []
  }
 ],
 "metadata": {
  "kernelspec": {
   "display_name": "Python 3 (ipykernel)",
   "language": "python",
   "name": "python3"
  },
  "language_info": {
   "codemirror_mode": {
    "name": "ipython",
    "version": 3
   },
   "file_extension": ".py",
   "mimetype": "text/x-python",
   "name": "python",
   "nbconvert_exporter": "python",
   "pygments_lexer": "ipython3",
   "version": "3.12.7"
  }
 },
 "nbformat": 4,
 "nbformat_minor": 5
}
