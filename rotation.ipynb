{
 "cells": [
  {
   "cell_type": "code",
   "execution_count": 1,
   "id": "9e60bd43-74b2-4266-9279-98656fb05941",
   "metadata": {},
   "outputs": [],
   "source": [
    "\n",
    "import cv2"
   ]
  },
  {
   "cell_type": "code",
   "execution_count": 2,
   "id": "eb9aa0e1-c9c1-4b5a-88e4-ef0ffaf62e8a",
   "metadata": {},
   "outputs": [],
   "source": [
    "image = cv2.imread(\"Screenshot 2025-09-15 202205.png\")\n",
    "\n",
    "if image is None:\n",
    "    print(\"could not load image\")\n",
    "else:\n",
    "    (h,w) = image.shape[:2]\n",
    "    center = (w//2,h//2)\n",
    "    m = cv2.getRotationMatrix2D(center,90,1.0)\n",
    "    rotated = cv2.warpAffine(image,m,(w,h))\n",
    "    cv2.imshow('original',image)\n",
    "    cv2.imshow(\"rotated 90 degree\",rotated)\n",
    "    cv2.waitKey()\n",
    "    cv2.destroyAllWindows()"
   ]
  },
  {
   "cell_type": "code",
   "execution_count": null,
   "id": "770387f9-449f-4454-9cce-1c915f84db07",
   "metadata": {},
   "outputs": [],
   "source": []
  }
 ],
 "metadata": {
  "kernelspec": {
   "display_name": "Python 3 (ipykernel)",
   "language": "python",
   "name": "python3"
  },
  "language_info": {
   "codemirror_mode": {
    "name": "ipython",
    "version": 3
   },
   "file_extension": ".py",
   "mimetype": "text/x-python",
   "name": "python",
   "nbconvert_exporter": "python",
   "pygments_lexer": "ipython3",
   "version": "3.12.7"
  }
 },
 "nbformat": 4,
 "nbformat_minor": 5
}
