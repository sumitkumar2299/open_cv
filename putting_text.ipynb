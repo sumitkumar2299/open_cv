{
 "cells": [
  {
   "cell_type": "code",
   "execution_count": 1,
   "id": "3f6a40ca-9f30-4b95-9686-f9f2b8f38534",
   "metadata": {},
   "outputs": [],
   "source": [
    "import cv2"
   ]
  },
  {
   "cell_type": "code",
   "execution_count": 2,
   "id": "77c9e015-cc5c-47c1-89c5-76d9076c9a45",
   "metadata": {},
   "outputs": [
    {
     "name": "stdout",
     "output_type": "stream",
     "text": [
      "image loaded successfully\n"
     ]
    }
   ],
   "source": [
    "image = cv2.imread(\"Screenshot 2025-09-15 202205.png\")\n",
    "\n",
    "if image is None:\n",
    "    print(\"image unable to load\")\n",
    "else:\n",
    "    print(\"image loaded successfully\")\n",
    "    cv2.putText(image,\"hello python programers\",(50,300),cv2.FONT_HERSHEY_COMPLEX,1.2,(255,0,0),2)\n",
    "    cv2.imshow(\"adding text over image\",image)\n",
    "    cv2.waitKey(0)\n",
    "    cv2.destroyAllWindows()\n",
    "\n"
   ]
  },
  {
   "cell_type": "code",
   "execution_count": null,
   "id": "26bb0632-8d3c-46f6-920a-04079a36965f",
   "metadata": {},
   "outputs": [],
   "source": []
  }
 ],
 "metadata": {
  "kernelspec": {
   "display_name": "Python 3 (ipykernel)",
   "language": "python",
   "name": "python3"
  },
  "language_info": {
   "codemirror_mode": {
    "name": "ipython",
    "version": 3
   },
   "file_extension": ".py",
   "mimetype": "text/x-python",
   "name": "python",
   "nbconvert_exporter": "python",
   "pygments_lexer": "ipython3",
   "version": "3.12.7"
  }
 },
 "nbformat": 4,
 "nbformat_minor": 5
}
