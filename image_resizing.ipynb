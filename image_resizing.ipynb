{
 "cells": [
  {
   "cell_type": "code",
   "execution_count": 1,
   "id": "3328f591-c1d5-414b-af02-6a5677de0aca",
   "metadata": {},
   "outputs": [],
   "source": [
    "import cv2"
   ]
  },
  {
   "cell_type": "code",
   "execution_count": 4,
   "id": "d30286ba-3280-4c0f-9fc0-38b522060302",
   "metadata": {},
   "outputs": [
    {
     "name": "stdout",
     "output_type": "stream",
     "text": [
      "image loaded\n",
      " height:618\n",
      " width:869\n",
      " channels:3\n"
     ]
    }
   ],
   "source": [
    "image = cv2.imread(\"Screenshot 2025-09-15 202205.png\")\n",
    "\n",
    "if image is not None:\n",
    "    h,w,c = image.shape\n",
    "    print(f\"image loaded\\n height:{h}\\n width:{w}\\n channels:{c}\")\n",
    "else:\n",
    "    print(\"couldn't load image\")"
   ]
  },
  {
   "cell_type": "code",
   "execution_count": null,
   "id": "06e585f1-1600-464b-8728-4288e199e190",
   "metadata": {},
   "outputs": [],
   "source": []
  }
 ],
 "metadata": {
  "kernelspec": {
   "display_name": "Python 3 (ipykernel)",
   "language": "python",
   "name": "python3"
  },
  "language_info": {
   "codemirror_mode": {
    "name": "ipython",
    "version": 3
   },
   "file_extension": ".py",
   "mimetype": "text/x-python",
   "name": "python",
   "nbconvert_exporter": "python",
   "pygments_lexer": "ipython3",
   "version": "3.12.7"
  }
 },
 "nbformat": 4,
 "nbformat_minor": 5
}
