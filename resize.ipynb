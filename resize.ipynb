{
 "cells": [
  {
   "cell_type": "code",
   "execution_count": 2,
   "id": "7de0985e-8b6c-452f-a60f-ef1985aa12b1",
   "metadata": {},
   "outputs": [],
   "source": [
    "import cv2\n"
   ]
  },
  {
   "cell_type": "code",
   "execution_count": 3,
   "id": "cb3ac9ea-a956-4067-8327-ae9346e9d2cd",
   "metadata": {},
   "outputs": [
    {
     "name": "stdout",
     "output_type": "stream",
     "text": [
      "image loaded\n"
     ]
    }
   ],
   "source": [
    "image = cv2.imread(\"Screenshot 2025-09-15 202205.png\")\n",
    "\n",
    "if image is None:\n",
    "    print(\"image is not found\")\n",
    "else:\n",
    "    print(\"image loaded\")\n",
    "    resized = cv2.resize(image,(300,300))\n",
    "    cv2.imshow(\"original image\",image)\n",
    "    cv2.imshow(\"resized image\",resized)\n",
    "    cv2.imwrite(\"resized_output.png\", resized)\n",
    "    cv2.waitKey(0)\n",
    "    cv2.destroyAllWindows()"
   ]
  },
  {
   "cell_type": "code",
   "execution_count": null,
   "id": "2e2fd1e5-40cb-4b69-8915-2ae0c7217bc3",
   "metadata": {},
   "outputs": [],
   "source": []
  }
 ],
 "metadata": {
  "kernelspec": {
   "display_name": "Python 3 (ipykernel)",
   "language": "python",
   "name": "python3"
  },
  "language_info": {
   "codemirror_mode": {
    "name": "ipython",
    "version": 3
   },
   "file_extension": ".py",
   "mimetype": "text/x-python",
   "name": "python",
   "nbconvert_exporter": "python",
   "pygments_lexer": "ipython3",
   "version": "3.12.7"
  }
 },
 "nbformat": 4,
 "nbformat_minor": 5
}
