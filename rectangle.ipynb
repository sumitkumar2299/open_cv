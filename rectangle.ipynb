{
 "cells": [
  {
   "cell_type": "code",
   "execution_count": 1,
   "id": "18be05ea-8d77-43e6-885f-3a40c1c08655",
   "metadata": {},
   "outputs": [],
   "source": [
    "import cv2"
   ]
  },
  {
   "cell_type": "code",
   "execution_count": 2,
   "id": "38d29b70-c63d-4054-80a0-dfcc6353916a",
   "metadata": {},
   "outputs": [
    {
     "name": "stdout",
     "output_type": "stream",
     "text": [
      "image loaded succsessfully\n"
     ]
    }
   ],
   "source": [
    "image = cv2.imread(\"Screenshot 2025-09-15 202205.png\")\n",
    "\n",
    "if image is None:\n",
    "    print(\"unable to load image\")\n",
    "else:\n",
    "    print(\"image loaded succsessfully\")"
   ]
  },
  {
   "cell_type": "code",
   "execution_count": 5,
   "id": "91aae0f0-c0ba-4e46-9589-b4c3e208b3f3",
   "metadata": {},
   "outputs": [],
   "source": [
    "# now i have to draw a rectangle in an image \n",
    "\n",
    "pt1 = (50,50)\n",
    "pt2 = (250,200)\n",
    "color = (255,20,147)\n",
    "thickness = 4\n",
    "\n",
    "cv2.rectangle(image,pt1,pt2,color,thickness)\n",
    "cv2.imshow(\"image focusing rectangle \",image)\n",
    "cv2.waitKey(0)\n",
    "cv2.destroyAllWindows()"
   ]
  },
  {
   "cell_type": "code",
   "execution_count": null,
   "id": "e65f8a39-0f61-4997-8a25-9c66eab4d5b5",
   "metadata": {},
   "outputs": [],
   "source": []
  }
 ],
 "metadata": {
  "kernelspec": {
   "display_name": "Python 3 (ipykernel)",
   "language": "python",
   "name": "python3"
  },
  "language_info": {
   "codemirror_mode": {
    "name": "ipython",
    "version": 3
   },
   "file_extension": ".py",
   "mimetype": "text/x-python",
   "name": "python",
   "nbconvert_exporter": "python",
   "pygments_lexer": "ipython3",
   "version": "3.12.7"
  }
 },
 "nbformat": 4,
 "nbformat_minor": 5
}
