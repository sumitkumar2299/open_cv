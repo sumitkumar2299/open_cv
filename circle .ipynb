{
 "cells": [
  {
   "cell_type": "code",
   "execution_count": 1,
   "id": "fcf98379-3bf7-4e97-b870-3f8e78e7b7af",
   "metadata": {},
   "outputs": [],
   "source": [
    "import cv2"
   ]
  },
  {
   "cell_type": "code",
   "execution_count": null,
   "id": "d650f8bf-bd38-4bff-98e5-75b9caf36372",
   "metadata": {},
   "outputs": [
    {
     "name": "stdout",
     "output_type": "stream",
     "text": [
      "image loaded successfully\n"
     ]
    }
   ],
   "source": [
    "image = cv2.imread(\"Screenshot 2025-09-15 202205.png\")\n",
    "\n",
    "if image is None:\n",
    "    print(\"unable to load image\")\n",
    "else:\n",
    "    print(\"image loaded successfully\")\n",
    "\n",
    "center = (150,150)\n",
    "radius =  50\n",
    "color = (255,20,147)\n",
    "thickness = -1\n",
    "\n",
    "cv2.circle(image,center,radius,color,thickness)\n",
    "cv2.imshow(\"drawing circle\",image)\n",
    "cv2.waitKey(0)\n",
    "cv2.destroyAllWindows()\n",
    "   "
   ]
  },
  {
   "cell_type": "code",
   "execution_count": null,
   "id": "6cee2d6c-e429-4c71-861f-e0064c0398e1",
   "metadata": {},
   "outputs": [],
   "source": []
  }
 ],
 "metadata": {
  "kernelspec": {
   "display_name": "Python 3 (ipykernel)",
   "language": "python",
   "name": "python3"
  },
  "language_info": {
   "codemirror_mode": {
    "name": "ipython",
    "version": 3
   },
   "file_extension": ".py",
   "mimetype": "text/x-python",
   "name": "python",
   "nbconvert_exporter": "python",
   "pygments_lexer": "ipython3",
   "version": "3.12.7"
  }
 },
 "nbformat": 4,
 "nbformat_minor": 5
}
