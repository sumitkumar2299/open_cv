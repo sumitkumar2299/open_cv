{
 "cells": [
  {
   "cell_type": "code",
   "execution_count": 2,
   "id": "0e646386-ef5d-4308-bf8d-8fc20c9ff6ee",
   "metadata": {},
   "outputs": [],
   "source": [
    "import cv2"
   ]
  },
  {
   "cell_type": "code",
   "execution_count": 3,
   "id": "bc57166f-7473-496e-a8bc-0767e0f0881c",
   "metadata": {},
   "outputs": [
    {
     "name": "stdout",
     "output_type": "stream",
     "text": [
      "image loaded successfully\n"
     ]
    }
   ],
   "source": [
    "image = cv2.imread(\"Screenshot 2025-09-15 202205.png\")\n",
    "\n",
    "if image is None:\n",
    "    print(\"oops:your image is not working\")\n",
    "else:\n",
    "    print(\"image loaded successfully\")\n",
    "\n"
   ]
  },
  {
   "cell_type": "code",
   "execution_count": 7,
   "id": "31e2ae4a-79b5-4d6f-9bd5-9c6330d30c89",
   "metadata": {},
   "outputs": [],
   "source": [
    "pt1 = (50,100)\n",
    "pt2 = (300,100)\n",
    "color = (255,0,0)\n",
    "thickness = 4"
   ]
  },
  {
   "cell_type": "code",
   "execution_count": 8,
   "id": "4e6e6ea0-40f5-42a7-97e3-b1d3446a0054",
   "metadata": {},
   "outputs": [],
   "source": [
    "cv2.line(image,pt1,pt2,color,thickness)\n",
    "cv2.imshow(\"Line drawing\",image)\n",
    "cv2.waitKey(0)\n",
    "cv2.destroyAllWindows()"
   ]
  },
  {
   "cell_type": "code",
   "execution_count": null,
   "id": "4f3efbba-48a3-424a-865c-d158babc4234",
   "metadata": {},
   "outputs": [],
   "source": []
  }
 ],
 "metadata": {
  "kernelspec": {
   "display_name": "Python 3 (ipykernel)",
   "language": "python",
   "name": "python3"
  },
  "language_info": {
   "codemirror_mode": {
    "name": "ipython",
    "version": 3
   },
   "file_extension": ".py",
   "mimetype": "text/x-python",
   "name": "python",
   "nbconvert_exporter": "python",
   "pygments_lexer": "ipython3",
   "version": "3.12.7"
  }
 },
 "nbformat": 4,
 "nbformat_minor": 5
}
