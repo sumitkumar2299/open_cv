{
 "cells": [
  {
   "cell_type": "code",
   "execution_count": 1,
   "id": "e9b1968d-7be3-461f-9072-833cd5a4ea47",
   "metadata": {},
   "outputs": [],
   "source": [
    "import cv2"
   ]
  },
  {
   "cell_type": "code",
   "execution_count": 2,
   "id": "9d48fac9-5001-49d8-a05c-bb1d96a35725",
   "metadata": {},
   "outputs": [],
   "source": [
    "image = cv2.imread(\"Screenshot 2025-09-15 202205.png\")\n",
    "\n",
    "blurred = cv2.GaussianBlur(image,(7,7),3)\n",
    "\n",
    "cv2.imshow(\"original image\",image)\n",
    "cv2.imshow(\"blurered iamge\",blurred)\n",
    "cv2.waitKey(0)\n",
    "cv2.destroyAllWindows()\n"
   ]
  },
  {
   "cell_type": "code",
   "execution_count": 3,
   "id": "5ac03d52-5025-4f18-9d77-e22365ee5395",
   "metadata": {},
   "outputs": [],
   "source": [
    "# kernwl size = (3,3) -> light blure \n",
    "# (9,9) string blur \n",
    "#  (21,21) super blur\n",
    "# gaussian blur and median blur "
   ]
  },
  {
   "cell_type": "code",
   "execution_count": null,
   "id": "311352f7-d833-4c2a-af4c-33767943a22e",
   "metadata": {},
   "outputs": [],
   "source": []
  }
 ],
 "metadata": {
  "kernelspec": {
   "display_name": "Python 3 (ipykernel)",
   "language": "python",
   "name": "python3"
  },
  "language_info": {
   "codemirror_mode": {
    "name": "ipython",
    "version": 3
   },
   "file_extension": ".py",
   "mimetype": "text/x-python",
   "name": "python",
   "nbconvert_exporter": "python",
   "pygments_lexer": "ipython3",
   "version": "3.12.7"
  }
 },
 "nbformat": 4,
 "nbformat_minor": 5
}
