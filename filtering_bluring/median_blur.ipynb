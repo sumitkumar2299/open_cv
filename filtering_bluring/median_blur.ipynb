{
 "cells": [
  {
   "cell_type": "code",
   "execution_count": 1,
   "id": "84eb12c7-b964-419f-9138-5639b78e95f5",
   "metadata": {},
   "outputs": [],
   "source": [
    "import cv2"
   ]
  },
  {
   "cell_type": "code",
   "execution_count": 2,
   "id": "bc1628c5-8a90-41eb-be05-16b7a6e1bbb0",
   "metadata": {},
   "outputs": [],
   "source": [
    "image  = cv2.imread(\"Screenshot 2025-09-15 202205.png\")\n",
    "blurred = cv2.medianBlur(image,11)\n",
    "\n",
    "cv2.imshow(\"original\",image)\n",
    "cv2.imshow(\"clean image\",blurred)\n",
    "cv2.waitKey(0)\n",
    "cv2.destroyAllWindows()\n"
   ]
  },
  {
   "cell_type": "code",
   "execution_count": null,
   "id": "0f7de913-fa11-449d-8596-81cd9e16aa30",
   "metadata": {},
   "outputs": [],
   "source": []
  }
 ],
 "metadata": {
  "kernelspec": {
   "display_name": "Python 3 (ipykernel)",
   "language": "python",
   "name": "python3"
  },
  "language_info": {
   "codemirror_mode": {
    "name": "ipython",
    "version": 3
   },
   "file_extension": ".py",
   "mimetype": "text/x-python",
   "name": "python",
   "nbconvert_exporter": "python",
   "pygments_lexer": "ipython3",
   "version": "3.12.7"
  }
 },
 "nbformat": 4,
 "nbformat_minor": 5
}
