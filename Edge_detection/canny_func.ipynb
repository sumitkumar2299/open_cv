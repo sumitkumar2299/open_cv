{
 "cells": [
  {
   "cell_type": "code",
   "execution_count": 3,
   "id": "6a9469ed-512e-4d37-8345-38ebaa37446c",
   "metadata": {},
   "outputs": [],
   "source": [
    "import cv2"
   ]
  },
  {
   "cell_type": "code",
   "execution_count": 5,
   "id": "e8d99084-8cc4-4650-9a6b-c28645a9739e",
   "metadata": {},
   "outputs": [],
   "source": [
    "img = cv2.imread('Screenshot 2025-09-15 202205.png',cv2.IMREAD_GRAYSCALE)\n",
    "edges = cv2.Canny(img,50,150)\n",
    "cv2.imshow(\"original image\",img)\n",
    "cv2.imshow(\"edges\",edges)\n",
    "cv2.waitKey()\n",
    "cv2.destroyAllWindows()"
   ]
  },
  {
   "cell_type": "code",
   "execution_count": 6,
   "id": "739a060f-0f00-4efb-8b8c-b6b92a7a3533",
   "metadata": {},
   "outputs": [],
   "source": [
    "img = cv2.imread('Screenshot 2025-09-15 202205.png',cv2.IMREAD_GRAYSCALE)\n",
    "edges = cv2.Canny(img,50,150,cv2.THRESH_BINARY)\n",
    "cv2.imshow(\"original image\",img)\n",
    "cv2.imshow(\"edges\",edges)\n",
    "cv2.waitKey()\n",
    "cv2.destroyAllWindows()"
   ]
  },
  {
   "cell_type": "code",
   "execution_count": null,
   "id": "12a515fe-9959-4e58-b130-8e550aeea855",
   "metadata": {},
   "outputs": [],
   "source": [
    "# 90 -> 0 black \n",
    "# 130 -> 255 white \n",
    "# 100 -> 255 white \n",
    "#  50 -> 0 black \n",
    "\n",
    "# 100,120,150"
   ]
  },
  {
   "cell_type": "code",
   "execution_count": null,
   "id": "cdfcd85a-afad-440d-8712-dd569301d90f",
   "metadata": {},
   "outputs": [],
   "source": []
  }
 ],
 "metadata": {
  "kernelspec": {
   "display_name": "Python 3 (ipykernel)",
   "language": "python",
   "name": "python3"
  },
  "language_info": {
   "codemirror_mode": {
    "name": "ipython",
    "version": 3
   },
   "file_extension": ".py",
   "mimetype": "text/x-python",
   "name": "python",
   "nbconvert_exporter": "python",
   "pygments_lexer": "ipython3",
   "version": "3.12.7"
  }
 },
 "nbformat": 4,
 "nbformat_minor": 5
}
