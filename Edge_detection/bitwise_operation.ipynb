{
 "cells": [
  {
   "cell_type": "code",
   "execution_count": null,
   "id": "9977d82e-b491-4017-9f21-38eef6245e86",
   "metadata": {},
   "outputs": [],
   "source": [
    "# cv2.bitwis_and(img1,img2)  -> \n",
    "# cv2.bitwise_or(img1,img2)\n",
    "# cv2.bitwise_not(img1,img2)"
   ]
  },
  {
   "cell_type": "code",
   "execution_count": 2,
   "id": "ecf266fb-f946-4242-949c-fb6fa258de64",
   "metadata": {},
   "outputs": [],
   "source": [
    "import cv2\n",
    "import numpy as np "
   ]
  },
  {
   "cell_type": "code",
   "execution_count": 4,
   "id": "3dc4e51c-1a20-4433-9321-a211eb56daf9",
   "metadata": {},
   "outputs": [],
   "source": [
    "img1 = np.zeros((300,300),dtype =\"uint8\")\n",
    "img2 = np.zeros((300,300),dtype =\"uint8\")\n",
    "\n",
    "cv2.circle(img1,(150,150),100,255,-1)\n",
    "cv2.rectangle(img2,(100,100),(250,250),255,-1)\n",
    "\n",
    "bitwise_and = cv2.bitwise_and(img1,img2)\n",
    "bitwise_or = cv2.bitwise_or(img1,img2)\n",
    "bitwise_not = cv2.bitwise_not(img1,img2)\n",
    "\n",
    "cv2.imshow(\"circle\",img1)\n",
    "cv2.imshow(\"rectangle\",img2)\n",
    "cv2.imshow(\"and\",bitwise_and)\n",
    "cv2.imshow(\"or\",bitwise_or)\n",
    "cv2.imshow(\"not\",bitwise_not)\n",
    "\n",
    "cv2.waitKey(0)\n",
    "cv2.destroyAllWindows()"
   ]
  },
  {
   "cell_type": "code",
   "execution_count": null,
   "id": "fd4c2add-1e97-4308-b6a7-5a2c1780e931",
   "metadata": {},
   "outputs": [],
   "source": []
  }
 ],
 "metadata": {
  "kernelspec": {
   "display_name": "Python 3 (ipykernel)",
   "language": "python",
   "name": "python3"
  },
  "language_info": {
   "codemirror_mode": {
    "name": "ipython",
    "version": 3
   },
   "file_extension": ".py",
   "mimetype": "text/x-python",
   "name": "python",
   "nbconvert_exporter": "python",
   "pygments_lexer": "ipython3",
   "version": "3.12.7"
  }
 },
 "nbformat": 4,
 "nbformat_minor": 5
}
