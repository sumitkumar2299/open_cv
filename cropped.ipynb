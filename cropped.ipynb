{
 "cells": [
  {
   "cell_type": "code",
   "execution_count": 1,
   "id": "233ca305-e285-4125-be92-83cde77cbbc5",
   "metadata": {},
   "outputs": [],
   "source": [
    "import cv2"
   ]
  },
  {
   "cell_type": "code",
   "execution_count": 2,
   "id": "c499c6cd-4725-4d03-8588-302b24ce87fb",
   "metadata": {},
   "outputs": [],
   "source": [
    "image = cv2.imread(\"Screenshot 2025-09-15 202205.png\")\n",
    "\n",
    "if image is not None:\n",
    "    cropped = image[100:200, 50:150] \n",
    "    cv2.imshow(\"original\",image)\n",
    "    cv2.imshow(\"cropped\",cropped)\n",
    "    cv2.waitKey(0)\n",
    "    cv2.destroyAllWindows()"
   ]
  },
  {
   "cell_type": "code",
   "execution_count": null,
   "id": "2009c116-cf78-4243-971c-a2c02c824bb2",
   "metadata": {},
   "outputs": [],
   "source": [
    "# cropped = image[100:200, 50:150]\n",
    "# This is image slicing in OpenCV (actually NumPy array slicing, since OpenCV images are NumPy arrays).\n",
    "\n",
    "# 📌 How it works:\n",
    "# OpenCV loads an image as a NumPy array of shape (height, width, channels).\n",
    "\n",
    "# height → rows (y-axis, vertical, top to bottom)\n",
    "\n",
    "# width → columns (x-axis, horizontal, left to right)\n",
    "\n",
    "# channels → color channels (BGR in OpenCV)\n",
    "\n",
    "# When you slice:\n",
    "\n",
    "# python\n",
    "# Copy code\n",
    "# image[y1:y2, x1:x2]\n",
    "# y1:y2 → row range (vertical coordinates → height).\n",
    "\n",
    "# x1:x2 → column range (horizontal coordinates → width).\n",
    "\n",
    "# : → NumPy slicing (end is exclusive).\n",
    "\n",
    "# In your case:\n",
    "# python\n",
    "# Copy code\n",
    "# cropped = image[100:200, 50:150]\n",
    "# 100:200 → rows → y = 100 to 199 (height = 200 - 100 = 100 pixels)\n",
    "\n",
    "# 50:150 → columns → x = 50 to 149 (width = 150 - 50 = 100 pixels)\n",
    "\n",
    "# 👉 So, the cropped image is 100×100 pixels, taken from the rectangle:\n",
    "\n",
    "# Top-left corner: (x=50, y=100)\n",
    "\n",
    "# Bottom-right corner: (x=149, y=199)\n",
    "\n",
    "# Visualization:\n",
    "# If the original image looks like a big grid:\n",
    "\n",
    "# lua\n",
    "# Copy code\n",
    "# (0,0) -----------------> x\n",
    "#   |\n",
    "#   |\n",
    "#   v\n",
    "#   y\n",
    "# Then your crop is a square cutout starting at (50,100) and ending at (150,200).\n",
    "\n",
    "# Example to show it:\n",
    "# python\n",
    "# Copy code\n",
    "# cv2.imshow(\"cropped\", cropped)\n",
    "# cv2.imwrite(\"cropped.png\", cropped)\n",
    "# ⚡ Note:\n",
    "\n",
    "# This does not copy pixels, it makes a view into the original array.\n",
    "\n",
    "# If you modify cropped, the original image pixels in that region also change (unless you .copy()).\n",
    "\n",
    "# 👉 Example:\n",
    "\n",
    "# python\n",
    "# Copy code\n",
    "# cropped = image[100:200, 50:150].copy()   # independent copy"
   ]
  }
 ],
 "metadata": {
  "kernelspec": {
   "display_name": "Python 3 (ipykernel)",
   "language": "python",
   "name": "python3"
  },
  "language_info": {
   "codemirror_mode": {
    "name": "ipython",
    "version": 3
   },
   "file_extension": ".py",
   "mimetype": "text/x-python",
   "name": "python",
   "nbconvert_exporter": "python",
   "pygments_lexer": "ipython3",
   "version": "3.12.7"
  }
 },
 "nbformat": 4,
 "nbformat_minor": 5
}
