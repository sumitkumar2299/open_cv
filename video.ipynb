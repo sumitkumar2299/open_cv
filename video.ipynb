{
 "cells": [
  {
   "cell_type": "code",
   "execution_count": 1,
   "id": "3ee320e8-a333-4561-a145-c5bc633b4c0d",
   "metadata": {},
   "outputs": [],
   "source": [
    "# Video is just a collection of images "
   ]
  },
  {
   "cell_type": "code",
   "execution_count": null,
   "id": "4b2731cc-b703-47f3-8735-06cfee40da89",
   "metadata": {},
   "outputs": [],
   "source": []
  },
  {
   "cell_type": "code",
   "execution_count": null,
   "id": "f627c3fe-4bfc-4d34-9d1e-23bb4dd2744f",
   "metadata": {},
   "outputs": [],
   "source": []
  }
 ],
 "metadata": {
  "kernelspec": {
   "display_name": "Python 3 (ipykernel)",
   "language": "python",
   "name": "python3"
  },
  "language_info": {
   "codemirror_mode": {
    "name": "ipython",
    "version": 3
   },
   "file_extension": ".py",
   "mimetype": "text/x-python",
   "name": "python",
   "nbconvert_exporter": "python",
   "pygments_lexer": "ipython3",
   "version": "3.12.7"
  }
 },
 "nbformat": 4,
 "nbformat_minor": 5
}
